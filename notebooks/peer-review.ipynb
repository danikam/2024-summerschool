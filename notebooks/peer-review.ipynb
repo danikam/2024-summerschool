{
 "cells": [
  {
   "cell_type": "markdown",
   "id": "c1ae3828-e994-4ed7-b280-d5f1cb1c93d9",
   "metadata": {
    "editable": true,
    "slideshow": {
     "slide_type": "slide"
    },
    "tags": []
   },
   "source": [
    "# Peer Code Review \n",
    "\n",
    "Madicken Munk\n",
    "\n",
    "University of Illinois at Urbana-Champaign"
   ]
  },
  {
   "cell_type": "markdown",
   "id": "db5c78b7-977f-47a3-a7e6-d03a78faea75",
   "metadata": {
    "editable": true,
    "slideshow": {
     "slide_type": "subslide"
    },
    "tags": []
   },
   "source": [
    "### Lesson Objectives \n",
    "\n",
    "* Summarize code review best practices \n",
    "* Demonstrate code review on a pull request\n"
   ]
  },
  {
   "cell_type": "markdown",
   "id": "a30d0c55-445c-4f74-bbee-2ce3abbf39f4",
   "metadata": {
    "editable": true,
    "slideshow": {
     "slide_type": "slide"
    },
    "tags": []
   },
   "source": [
    "# Code review best practices "
   ]
  },
  {
   "cell_type": "markdown",
   "id": "cb7fb252-12b8-4add-a822-57669402409b",
   "metadata": {
    "editable": true,
    "slideshow": {
     "slide_type": "subslide"
    },
    "tags": []
   },
   "source": [
    "Code review, like peer review, enhances the quality of the work being submitted. All involved parties are collaborating to enhance the final product of the pull request. \n",
    "\n",
    "When performing code review, you are using your expertise to weigh in on a contribution. You aren't going to have expertise on everything, but your experience in the code and using it is important and relevant to the reivew. \n",
    "\n",
    "As a person getting code reviewed, appreciate the reviewer taking time to give you feedback on your work! They are both/either invested and interested in the work you're contributing. "
   ]
  },
  {
   "cell_type": "markdown",
   "id": "1c49b5b5-1b10-4cea-b676-3aa1dedfb747",
   "metadata": {
    "editable": true,
    "slideshow": {
     "slide_type": "subslide"
    },
    "tags": []
   },
   "source": [
    "I'm going to be talking about a few different perspectives this morning. Let's define them. \n",
    "\n",
    "**maintainer** -- a person who keeps things running in a software project. Sometimes maintainers aren't focused on new features but instead focus on overall project infrastructure and usability. \n",
    "\n",
    "**contributor** -- a person submitting a PR, issue, or feedback to a project. They may have never interacted with the project, or maybe they do so frequently. \n",
    "\n",
    "**user** -- people who use the code but don't contribute upstream. I try to think about how changes in my code might affect these people since they're often not weighing in in code review. "
   ]
  },
  {
   "cell_type": "markdown",
   "id": "3db2ef3d-5b1d-4094-9274-8118a9e94456",
   "metadata": {
    "editable": true,
    "slideshow": {
     "slide_type": "subslide"
    },
    "tags": []
   },
   "source": [
    "### What is code review? \n",
    "\n",
    "I like [this description](https://about.gitlab.com/topics/version-control/what-is-code-review/) from gitlab. "
   ]
  },
  {
   "cell_type": "markdown",
   "id": "3e1b98b5-0710-4628-a9dd-cc72f294bb31",
   "metadata": {
    "editable": true,
    "slideshow": {
     "slide_type": "subslide"
    },
    "tags": []
   },
   "source": [
    "# Code review as a reviewer"
   ]
  },
  {
   "cell_type": "markdown",
   "id": "789d1f5a-a806-4f87-af67-2438dc3edae1",
   "metadata": {
    "editable": true,
    "slideshow": {
     "slide_type": "subslide"
    },
    "tags": []
   },
   "source": [
    "My approach in a review: \n",
    "\n",
    "1. Read the PR description. What does the author want this code to do? Is it useful/applicable to the code it's being submitted to (is it in scope)?\n",
    "2. Read the documentation submitted with the code. Do I understand how to use it now? Is there anything that's ambiguous that coould be enhanced by clarification? Are there docs missing that need to be added?\n",
    "3. Look through the code. Do I follow the logic of what's being done? I ask questions if I don't.\n",
    "4. Check the tests. Have tests been added for any new features? Do they cover the scope of the new feature? Do they help me understand the code in any way? \n",
    "5. Consider the user. Is the API of the code changing from what already exists? Will it impact users significantly? \n",
    "6. Look through the code. Suggest constructive improvements. Do I see a lot of functionality that's repeated that can be put into a single function? Do I see a place where a design pattern could be used? I try to add suggestions for improvement as code snippets. \n",
    "7. Try to use the feature. I don't always do this, but for new features I do. Do I run into any errors when I use it? Does it make sense in my workflow?\n",
    "\n",
    "\n",
    "I also like to use a good code review checklist so I don't forget things. Here's the one my group uses: https://arfc.github.io/manual/guides/pull_requests"
   ]
  },
  {
   "cell_type": "markdown",
   "id": "4b6a1df0-4927-4689-891c-7437ff76ce9b",
   "metadata": {
    "editable": true,
    "slideshow": {
     "slide_type": "subslide"
    },
    "tags": []
   },
   "source": [
    "### Other considerations\n",
    "\n",
    "* When you accept the code, it's possible the contributor will not return. If you're the maintainer of the project, is this code you are comfortable maintaining moving forward?\n",
    "* Adding dependencies should be done mindfully.\n",
    "* If you notice something that you'd like changed that isn't directly related to the PR improvement, open an issue and suggest it as a later fix. "
   ]
  },
  {
   "cell_type": "markdown",
   "id": "480d95b2-9052-4a53-8d59-9c31a271ca9c",
   "metadata": {
    "editable": true,
    "slideshow": {
     "slide_type": "subslide"
    },
    "tags": []
   },
   "source": [
    "### Dos in code review \n",
    "\n",
    "* Thank the contributor for their contribution\n",
    "* State what things you particularly like about what was submitted.\n",
    "* Be positive whenever possible.\n",
    "* Ask questions about things you're confused about. You're probably not the only one.\n",
    "* If doing multiple rounds of review, try to not let things stagnate.\n",
    "* Use suggestions to show your thought process in code changes. "
   ]
  },
  {
   "cell_type": "markdown",
   "id": "cc401a76-542a-4647-b326-61c6db41654d",
   "metadata": {
    "editable": true,
    "slideshow": {
     "slide_type": "fragment"
    },
    "tags": []
   },
   "source": [
    "### Don'ts in code review \n",
    "\n",
    "* Nitpicking can really set the tone of a review. Is this small thing really important to the code or is it personal preference?\n",
    "* Don't reject code for stylistic or small changes. This is very demotivating for a contributor. "
   ]
  },
  {
   "cell_type": "markdown",
   "id": "aaeebda1-0363-4699-916e-ce72a7694f82",
   "metadata": {
    "editable": true,
    "slideshow": {
     "slide_type": "subslide"
    },
    "tags": []
   },
   "source": [
    "### Tips for smoother code reviews (and development!) in your project\n",
    "\n",
    "* Your reivews are there to enhance the code that was submitted for other maintainers, developers, and users. You are collaaborating with the author. \n",
    "* Using a linter and formatter mean that reviews avoid style bikeshedding.\n",
    "* Having good test coverage and CI mean that the a new contributor gets automatic feedback on how their code fits into your project. This also allows for code reviewers to focus on code readability and applicability rather than helping the author debug.\n",
    "* Having good developer documentation (what linter and formatter do your code use? What is your docs style) helps make the contributor experience a bit less iterative.\n",
    "* Having your issue tracker with clearly described issues helps people other than you understand what's going on in the project. \n",
    "* Labeling issues with things like `good first issue` and what type of fix the issue is (e.g. `documentation`, `testing`, or something feature-specific means that potential contributors can more easily choose a contribution they are comfortable with. This also ensures that the contribution somebody addresses from the issue tracker is relevant to the project. \n",
    "* Consider having a project decription in your README. What is the purpose of your code? What is it? What is it _*not*_?"
   ]
  },
  {
   "cell_type": "markdown",
   "id": "8492d7c8-13a3-4fcf-ae99-1cf9e0ec3965",
   "metadata": {
    "editable": true,
    "slideshow": {
     "slide_type": "subslide"
    },
    "tags": []
   },
   "source": [
    "### A few more things\n",
    "\n",
    "* If you know the contributor and you have done a few rounds of review, consider scheduling a call or sitting down with them to try to resolve things. "
   ]
  },
  {
   "cell_type": "markdown",
   "id": "bb3a0352-b599-4db0-9da4-90aa56c4af4c",
   "metadata": {
    "editable": true,
    "slideshow": {
     "slide_type": "subslide"
    },
    "tags": []
   },
   "source": [
    "### Code review as a contributor/developer \n",
    "\n",
    "Getting your own code reviewed can be exciting! But it can also be a little nervewracking. \n",
    "\n",
    "Let's talk a bit about the process of responding to a code review. \n",
    "\n"
   ]
  },
  {
   "cell_type": "markdown",
   "id": "711a5b61-2b4a-48c3-ad85-1190bf7484d6",
   "metadata": {
    "editable": true,
    "slideshow": {
     "slide_type": "subslide"
    },
    "tags": []
   },
   "source": [
    "My approach: \n",
    "\n",
    "* Read through the reviewer's comments. Consider their perspective as I read the comments. If I don't understand a comment, I ask a question as a reply to the review comment.\n",
    "* Answer reviewer questions, if there are any. \n",
    "* Incorporate any code suggestions the reveiwer made that I like through the github interface. This helps preserve authorship of their contributions.\n",
    "* Make code changes locally and push them to my feature branch. Address review comments in seperate commits to help split things up.\n",
    "* Notify the reviewer once I've addressed all comments and all open discussions have been resolved. "
   ]
  },
  {
   "cell_type": "markdown",
   "id": "d18d769b-f67b-4ce6-a008-f3c55f6922ba",
   "metadata": {
    "editable": true,
    "slideshow": {
     "slide_type": "subslide"
    },
    "tags": []
   },
   "source": [
    "# More Resources: \n",
    "\n",
    "* https://google.github.io/eng-practices/review/reviewer/\n",
    "* https://stackoverflow.blog/2019/09/30/how-to-make-good-code-reviews-better/\n",
    "* https://mtlynch.io/human-code-reviews-1/\n",
    "* https://mtlynch.io/code-review-love/\n",
    "* https://developers.redhat.com/blog/2019/07/08/10-tips-for-reviewing-code-you-dont-like#code_review_strategies\n",
    "* https://kickstarter.engineering/a-guide-to-mindful-communication-in-code-reviews-48aab5282e5e"
   ]
  },
  {
   "cell_type": "markdown",
   "id": "16536212-3c4b-492e-af77-e69c2f6ed72c",
   "metadata": {
    "editable": true,
    "slideshow": {
     "slide_type": ""
    },
    "tags": []
   },
   "source": []
  }
 ],
 "metadata": {
  "kernelspec": {
   "display_name": "Python 3 (ipykernel)",
   "language": "python",
   "name": "python3"
  },
  "language_info": {
   "codemirror_mode": {
    "name": "ipython",
    "version": 3
   },
   "file_extension": ".py",
   "mimetype": "text/x-python",
   "name": "python",
   "nbconvert_exporter": "python",
   "pygments_lexer": "ipython3",
   "version": "3.11.7"
  }
 },
 "nbformat": 4,
 "nbformat_minor": 5
}
