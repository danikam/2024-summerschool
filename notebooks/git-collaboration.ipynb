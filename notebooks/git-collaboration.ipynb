{
 "cells": [
  {
   "cell_type": "markdown",
   "id": "85908cd7-1a7a-4bd2-a942-14d306be7dad",
   "metadata": {
    "editable": true,
    "slideshow": {
     "slide_type": "slide"
    },
    "tags": []
   },
   "source": [
    "# Collaboration with Git and Github \n",
    "\n",
    "Danika MacDonell (borrowed heavily from Madicken Munk)\n",
    "\n",
    "MIT Climate & Sustainability Consortium"
   ]
  },
  {
   "cell_type": "markdown",
   "id": "60180e7b-c4a7-41b9-97fa-d2e3e6433854",
   "metadata": {
    "editable": true,
    "slideshow": {
     "slide_type": "subslide"
    },
    "tags": []
   },
   "source": [
    "### Lesson Objectives \n",
    "* Review git commands\n",
    "* Describe individual and collaborative workflows with git\n",
    "* Introduce git commands for collaborative workflows \n",
    "* Demo of collaborative workflows in practice\n",
    "* See additional useful git tips/tricks "
   ]
  },
  {
   "cell_type": "markdown",
   "id": "059ecc7b-4de6-43ac-bda9-7154e0c2be10",
   "metadata": {
    "editable": true,
    "slideshow": {
     "slide_type": "subslide"
    },
    "tags": []
   },
   "source": [
    "# Acknowledgements \n",
    "\n",
    "This material is heavily influenced by the previous works of [Madicken Munk](https://munkm.github.io/2024-winterschool/git-collaboration.slides.html#/), [Karthik Ram](https://inundata.org/talks/git-collaboration/#/) and [James Howison](https://jameshowison.github.io/peer_production_course/docs/additional_git_exercises.html) from the previous summer and winter schools.\n",
    "\n",
    "Other helpful/fun resources for git\n",
    "* https://git-school.github.io/visualizing-git/\n",
    "* https://pcottle.github.io/learnGitBranching/?NODEMO\n",
    "* https://allisonhorst.com/git-github\n",
    "* https://jvns.ca/blog/2023/11/23/branches-intuition-reality/\n",
    "* https://git-scm.com/docs\n",
    "* https://swcarpentry.github.io/git-novice/"
   ]
  },
  {
   "cell_type": "markdown",
   "id": "f0a18147-2b63-4b9d-b785-2b38d507ba0e",
   "metadata": {
    "editable": true,
    "slideshow": {
     "slide_type": "slide"
    },
    "tags": []
   },
   "source": [
    "# Workflows with Git "
   ]
  },
  {
   "cell_type": "markdown",
   "id": "e04e5c97-73b9-448d-8b4c-e59d3d7e04ae",
   "metadata": {
    "editable": true,
    "slideshow": {
     "slide_type": "subslide"
    },
    "tags": []
   },
   "source": [
    "# An Individual Workflow (without a remote) \n",
    "\n",
    "commit, commit, commit ..... \n",
    "\n",
    "```console\n",
    "danikamacdonell@computer: ~/Git$ mkdir research-code ; cd research-code\n",
    "danikamacdonell@computer: ~/Git/research-code$ git init\n",
    "Initialized empty Git repository in /Users/danikamacdonell/Git/research-code/.git/\n",
    "danikamacdonell@computer: ~/Git/research-code$ git branch -M main\n",
    "danikamacdonell@computer: ~/Git/research-code$ touch README.md ; open README.md\n",
    "danikamacdonell@computer: ~/Git/research-code$ git add README.md\n",
    "danikamacdonell@computer: ~/Git/research-code$ git commit -m 'add README with code description'\n",
    "[main (root-commit) 49c9e77] add README with code description\n",
    " 1 file changed, 0 insertions(+), 0 deletions(-)\n",
    "     create mode 100644 README.md\n",
    "danikamacdonell@computer: ~/Git/research-code$ git log\n",
    "Author: Danika MacDonell <danikamacdonell@computer>\n",
    "    Add a README with code description\n",
    "```"
   ]
  },
  {
   "cell_type": "markdown",
   "id": "845d51c6-6447-4e73-8430-e7cfb528c9ba",
   "metadata": {
    "editable": true,
    "jp-MarkdownHeadingCollapsed": true,
    "slideshow": {
     "slide_type": "subslide"
    },
    "tags": []
   },
   "source": [
    "# An Individual Workflow (with a remote) \n",
    "\n",
    "```console\n",
    "danikamacdonell@computer: ~/Git/research-code$ git remote add origin git@github.com:danikam/research-code.git\n",
    "danikamacdonell@computer: ~/Git/research-code$ git push -u origin main \n",
    "ERROR: Repository not found.\n",
    "fatal: Could not read from remote repository.\n",
    "\n",
    "Please make sure you have the correct access rights\n",
    "and the repository exists.\n",
    "```\n",
    "😱 What just happened???"
   ]
  },
  {
   "cell_type": "markdown",
   "id": "3521b2ed-d4a7-4335-9dca-efde47ef321d",
   "metadata": {
    "editable": true,
    "slideshow": {
     "slide_type": "subslide"
    },
    "tags": []
   },
   "source": [
    "# The GitHub Interface\n",
    "  <img src=\"images/GitHub_Interface.png\" alt=\"GitHub Interface\" width=\"600\">"
   ]
  },
  {
   "cell_type": "markdown",
   "id": "d053e241-48c7-441d-b544-ff0cf19e0bfb",
   "metadata": {
    "editable": true,
    "slideshow": {
     "slide_type": "subslide"
    },
    "tags": []
   },
   "source": [
    "# An Individual Workflow (remote created!)\n",
    "\n",
    "commit push, commit commit push, commit push ..... \n",
    "\n",
    "```console\n",
    "danikamacdonell@computer: ~/Git/research-code$ git push -u origin main\n",
    "Enumerating objects: 3, done.\n",
    "Counting objects: 100% (3/3), done.\n",
    "Delta compression using up to 8 threads\n",
    "Compressing objects: 100% (2/2), done.\n",
    "Writing objects: 100% (3/3), 299 bytes | 299.00 KiB/s, done.\n",
    "Total 3 (delta 0), reused 0 (delta 0), pack-reused 0\n",
    "To github.com:danikam/research-code.git\n",
    " * [new branch]      main -> main\n",
    "branch 'main' set up to track 'origin/main'.\n",
    "```\n",
    "\n",
    "With your code on a remote (like GitHub, GitLab, or an internal server for your lab), your work is easily accessed by peers!\n",
    "\n",
    "💡GitLab and other Git platforms will have slightly different interfaces and features from GitHub, but the basic actions are generally pretty similar. "
   ]
  },
  {
   "cell_type": "markdown",
   "id": "1884436c-e37c-4a2f-b47b-4b67fbc110e0",
   "metadata": {
    "editable": true,
    "slideshow": {
     "slide_type": "subslide"
    },
    "tags": []
   },
   "source": [
    "# ... But what about working with others? "
   ]
  },
  {
   "cell_type": "markdown",
   "id": "035d017c-e2b1-4295-8585-2dca0deb96cc",
   "metadata": {
    "editable": true,
    "slideshow": {
     "slide_type": "subslide"
    },
    "tags": []
   },
   "source": [
    "# Centralized Workflow\n",
    "\n",
    "All members work on the same repository \n",
    "\n",
    "**git pull** before starting work\n",
    "\n",
    "Everyone commits to main\n",
    "\n",
    "**git push**\n",
    "\n",
    "If there is no merge conflict, 🙌\n",
    "\n",
    "Otherwise fix merge conflict, then push"
   ]
  },
  {
   "cell_type": "markdown",
   "id": "00d2daee-8a72-41b2-a60b-73ecc20234fb",
   "metadata": {
    "editable": true,
    "slideshow": {
     "slide_type": "fragment"
    },
    "tags": []
   },
   "source": [
    "## Exercise: Fixing merge conflicts\n",
    "Make a merge conflict in the README.md and fix it!"
   ]
  },
  {
   "cell_type": "markdown",
   "id": "a107e7db-048b-4e1e-a5dd-11a6d232932d",
   "metadata": {
    "editable": true,
    "slideshow": {
     "slide_type": "subslide"
    },
    "tags": []
   },
   "source": [
    "# Feature Branching Workflow \n",
    "Members work on the same repository but use individual branches to do feature development "
   ]
  },
  {
   "cell_type": "markdown",
   "id": "0935adbd-a1a1-4c82-8247-d5e0a9c178cc",
   "metadata": {
    "editable": true,
    "slideshow": {
     "slide_type": "subslide"
    },
    "tags": []
   },
   "source": [
    "# Feature Branching Workflow\n",
    "\n",
    "Create and switch to a branch\n",
    "\n",
    "Add commits\n",
    "\n",
    "Push feature branch to GitHub\n",
    "\n",
    "Start a pull request\n",
    "\n",
    "Discuss, add more commits, merge"
   ]
  },
  {
   "cell_type": "markdown",
   "id": "ac20d86d-3292-41b9-b4d1-a2caecb4b211",
   "metadata": {
    "editable": true,
    "slideshow": {
     "slide_type": "subslide"
    },
    "tags": []
   },
   "source": [
    "Some important commands for this workflow:\n",
    "* `git branch`\n",
    "* `git checkout -b <branchname>`\n",
    "* `git push -u origin <branchname>`"
   ]
  },
  {
   "cell_type": "markdown",
   "id": "92548d23-289d-4450-9905-ce9374d97303",
   "metadata": {
    "editable": true,
    "slideshow": {
     "slide_type": "fragment"
    },
    "tags": []
   },
   "source": [
    ".. add some more commits, then `git push` and _open a pull request_"
   ]
  },
  {
   "cell_type": "markdown",
   "id": "f25cdfc5-6b0b-4a1f-acaa-22c0efa5529d",
   "metadata": {
    "editable": true,
    "slideshow": {
     "slide_type": "fragment"
    },
    "tags": []
   },
   "source": [
    "## Demo: Adding a new README section\n",
    "```console\n",
    "danikamacdonell@computer: ~/Git/research-code$ git checkout -b update-readme\n",
    "danikamacdonell@computer: ~/Git/research-code$ git add README.md\n",
    "danikamacdonell@computer: ~/Git/research-code$ git commit -m \"Added new README.md section\"\n",
    "danikamacdonell@computer: ~/Git/research-code$ git push -u origin update-readme\n",
    "```"
   ]
  },
  {
   "cell_type": "markdown",
   "id": "e2413a35-96f0-4a41-b939-79c98a0973bc",
   "metadata": {
    "editable": true,
    "slideshow": {
     "slide_type": "subslide"
    },
    "tags": []
   },
   "source": [
    "# Practice\n",
    "\n",
    "Using the feature branching workflow:\n",
    "\n",
    "1. Use at least two commits to:\n",
    "\n",
    "    1. Create a python script in the `source` directory called `PrintMessage.py` that prints a simple message.\n",
    "\n",
    "    2. Add a new section to the README to document the new script.\n",
    "\n",
    "2. Make a pull request!"
   ]
  },
  {
   "cell_type": "markdown",
   "id": "c62f273b-224d-4ea2-9b7a-ebb4723eea0f",
   "metadata": {
    "editable": true,
    "slideshow": {
     "slide_type": "subslide"
    },
    "tags": []
   },
   "source": [
    "# Pull Requests \n",
    "\n",
    "Pull requests are an excellent tool for **fostering code review**. If you’re using Github for team projects, _you should be using these extensively_."
   ]
  },
  {
   "cell_type": "markdown",
   "id": "74cce5d3-b192-4890-b2dd-80d1b32670a5",
   "metadata": {
    "editable": true,
    "slideshow": {
     "slide_type": "subslide"
    },
    "tags": []
   },
   "source": [
    "## Pull request best practices: \n",
    "\n",
    "* Try to make frequent, targeted pull requests that add a specific feature or set of features\n",
    "\n",
    "  ✅ \"Adds a new click feature for area layers in the geospatial mapping tool\"\n",
    "\n",
    "  \n",
    "  ❌ \"Adds the last 3 years of my thesis work\"\n",
    "\n",
    "* Itemize each major addition. \n",
    "\n",
    "A good practice is for someone else to merge your code into main, after being approved by at least one colleague. Sometimes a reviewer may not have merge rights; in these cases the requirement may be an approving review must be given before the feature is merged. "
   ]
  },
  {
   "cell_type": "markdown",
   "id": "eed1e0aa-7b90-473f-a720-a7fdbe2dcd02",
   "metadata": {
    "editable": true,
    "slideshow": {
     "slide_type": "subslide"
    },
    "tags": []
   },
   "source": [
    "## Pull request tip: \n",
    "\n",
    "Using the github interface, you can change the target of a pull request. The default is to the `main` branch, but it could be another feature branch. This can be used if you want to help develop a feature branch outside of `main` with a collaborator. "
   ]
  },
  {
   "cell_type": "markdown",
   "id": "5858758c-02fd-49fa-8176-3125ce9026f9",
   "metadata": {
    "editable": true,
    "slideshow": {
     "slide_type": "fragment"
    },
    "tags": []
   },
   "source": [
    "⛔️ Never send a large pull request without notice 🙅"
   ]
  },
  {
   "cell_type": "markdown",
   "id": "ad06686b-47cb-4182-83e7-7f551103117a",
   "metadata": {
    "editable": true,
    "slideshow": {
     "slide_type": "slide"
    },
    "tags": []
   },
   "source": [
    "# Forking Workflow \n",
    "\n",
    "In this workflow each collaborator \"forks\" a copy of the centralized repository. These forks represent individual remote repositories for each collaborator. Collaborators submit pull requests from their forks to the centralized repository. "
   ]
  },
  {
   "cell_type": "markdown",
   "id": "98d95f48-6384-4436-ab5d-c25de0e5c628",
   "metadata": {
    "editable": true,
    "slideshow": {
     "slide_type": "fragment"
    },
    "tags": []
   },
   "source": [
    "## When do I need to fork?\n",
    "\n",
    "* If you don't have write access and want to make changes, forking makes sense.\n",
    "* If you're an active project collaborator with write access, work on branches in the main repo. "
   ]
  },
  {
   "cell_type": "markdown",
   "id": "313fc70a-6294-45f1-97eb-1ef47ef36a8d",
   "metadata": {
    "editable": true,
    "slideshow": {
     "slide_type": "subslide"
    },
    "tags": []
   },
   "source": [
    "# Forking Workflow Guidelines\n",
    "\n",
    "Everyone has a fork of a \"central\" repository\n",
    "\n",
    "Add commits to feature branches\n",
    "\n",
    "Push feature branches to individual forks \n",
    "\n",
    "Send pull-request from feature branch on fork to central repository"
   ]
  },
  {
   "cell_type": "markdown",
   "id": "4a2d4ead-a911-4f1d-b715-8eadccf6257a",
   "metadata": {
    "editable": true,
    "slideshow": {
     "slide_type": "subslide"
    },
    "tags": []
   },
   "source": [
    "# Extra Tips: "
   ]
  },
  {
   "cell_type": "markdown",
   "id": "45213432-ec9d-4f6f-b367-7a0917f4cbef",
   "metadata": {
    "editable": true,
    "slideshow": {
     "slide_type": "fragment"
    },
    "tags": []
   },
   "source": [
    "Tip #1:  Always git pull before you start new work"
   ]
  },
  {
   "cell_type": "markdown",
   "id": "4a3a7304-0b6d-421e-b5c1-fedc16956bfe",
   "metadata": {
    "editable": true,
    "slideshow": {
     "slide_type": "fragment"
    },
    "tags": []
   },
   "source": [
    "Tip #2:  Keep branch names descriptive"
   ]
  },
  {
   "cell_type": "markdown",
   "id": "1f32794e-6b53-4a18-98c7-33af3a6c930c",
   "metadata": {
    "editable": true,
    "slideshow": {
     "slide_type": "fragment"
    },
    "tags": []
   },
   "source": [
    "Tip #3:  Generously use branches (but delete them when they're merged or stale)"
   ]
  },
  {
   "cell_type": "markdown",
   "id": "7bc250c7-f600-4b3b-8622-f04236c9eb53",
   "metadata": {
    "editable": true,
    "slideshow": {
     "slide_type": "fragment"
    },
    "tags": []
   },
   "source": [
    "Tip #4:  Use [github command line tool](https://github.com/cli/cli#installation) (gh) to simplify your workflow"
   ]
  },
  {
   "cell_type": "markdown",
   "id": "9faa00ec-bd00-4e11-b3d6-8225915d4bfb",
   "metadata": {
    "editable": true,
    "slideshow": {
     "slide_type": "subslide"
    },
    "tags": []
   },
   "source": [
    "# Demo\n",
    "\n",
    "1. Make a fork of `https://github.com/mcsc-impact-climate/urssi-research-code` and\n",
    "2. Using the forking workflow, update the script `source/PrintMessage.py` to instead print out your name (or something similarly personalized). "
   ]
  },
  {
   "cell_type": "markdown",
   "id": "7309aa99-77f2-4a04-9828-f4c3dacc458e",
   "metadata": {
    "editable": true,
    "slideshow": {
     "slide_type": "fragment"
    },
    "tags": []
   },
   "source": [
    "```console\n",
    "danikamacdonell@computer: ~/Git/research-code$ cd ..\n",
    "danikamacdonell@computer: ~/Git$ git clone git@github.com:danikam/urssi-research-code.git\n",
    "danikamacdonell@computer: ~/Git$ cd urssi-research-code\n",
    "danikamacdonell@computer: ~/Git$ git remote add upstream git@github.com:mcsc-impact-climate/urssi-research-code.git\n",
    "danikamacdonell@computer: ~/Git$ git checkout -b personalize-message\n",
    "```\n",
    "\n",
    "Add your new file(s), push and _open a pull request_"
   ]
  },
  {
   "cell_type": "markdown",
   "id": "fc4bae44-228a-4b8b-bbcc-243cc1025ea4",
   "metadata": {
    "editable": true,
    "slideshow": {
     "slide_type": "slide"
    },
    "tags": []
   },
   "source": [
    "# More useful git commands "
   ]
  },
  {
   "cell_type": "markdown",
   "id": "f27876da-7e14-4325-bddd-a89042bc37fa",
   "metadata": {
    "editable": true,
    "slideshow": {
     "slide_type": "subslide"
    },
    "tags": []
   },
   "source": [
    "#### Rebasing\n",
    "\n",
    "Rebasing lets you pull new commits from the parent branch or upstream repo (if you're on a fork).\n",
    "\n",
    "From parent branch:\n",
    "\n",
    "```console\n",
    "git fetch origin\n",
    "git rebase origin/<parent-branch>\n",
    "```\n",
    "\n",
    "From upstream forked repo:\n",
    "```console\n",
    "git remote add upstream https://github.com/original-owner/repo.git\n",
    "git fetch upstream\n",
    "git rebase upstream/<parent-branch>\n",
    "```"
   ]
  },
  {
   "cell_type": "markdown",
   "id": "dcb8a243-07a6-4298-9463-f86881e789e6",
   "metadata": {
    "editable": true,
    "slideshow": {
     "slide_type": "subslide"
    },
    "tags": []
   },
   "source": [
    "#### [tagging commits](https://git-scm.com/book/en/v2/Git-Basics-Tagging)\n",
    "\n",
    "branches are special labels that track a series of commits, but what if you want a special name for a particular commit (like when you released a new version of your code)? you can \"tag\" these \n",
    "\n",
    "* `git tag -a <tagname> <hash>`  -- useful for tagging a particular commit farther back in history\n",
    "* `git tag -a <tagname> -m \"tag message\"` -- this should tag the current commit with a descriptive message \n",
    "* `git push origin <tagname>` -- push a particular tag up to your remote\n",
    "* `git push origin --tags` -- push all of your tags up to your remote "
   ]
  },
  {
   "cell_type": "markdown",
   "id": "0e28555f-19e7-41c9-90cb-4390198f2984",
   "metadata": {
    "editable": true,
    "slideshow": {
     "slide_type": "subslide"
    },
    "tags": []
   },
   "source": [
    "#### amending a commit \n",
    "\n",
    "Oh no! I made a typo in my commit message! \n",
    "\n",
    "`git commit --amend` is useful for both fixing commit messages and for adding in files that were supposed to be committed and werent"
   ]
  },
  {
   "cell_type": "markdown",
   "id": "c82693ea-c776-420d-ae51-67bb7d7632ff",
   "metadata": {
    "editable": true,
    "slideshow": {
     "slide_type": "subslide"
    },
    "tags": []
   },
   "source": [
    "#### cherry picking \n",
    "\n",
    "What if you have a commit that really belongs on a different branch? Or in development you fixed a bug that you think should be in its own PR? You can \"cherry pick\" that commit to a new branch. \n",
    "\n",
    "`git cherry-pick <hash>`"
   ]
  },
  {
   "cell_type": "markdown",
   "id": "83fc2019-7244-46d7-b2e6-0a02c9047d9b",
   "metadata": {
    "editable": true,
    "slideshow": {
     "slide_type": "subslide"
    },
    "tags": []
   },
   "source": [
    "### undoing changes \n",
    "\n",
    "Reverting vs. Restoring \n"
   ]
  },
  {
   "cell_type": "markdown",
   "id": "96c0f31f-b465-4b2f-bd8b-ea5366f3da21",
   "metadata": {
    "editable": true,
    "slideshow": {
     "slide_type": "subslide"
    },
    "tags": []
   },
   "source": [
    "#### stashing changes \n",
    "\n",
    "oh no! I started making changes but I'm not on the feature branch I thought I was! \n",
    "\n",
    "`git stash` can be used to hide the changes in your working tree and then bring them back out with `git stash apply` when you're on the appropriate branch"
   ]
  },
  {
   "cell_type": "markdown",
   "id": "02968326-7e0a-44f1-a847-a2cbb479af2d",
   "metadata": {
    "editable": true,
    "slideshow": {
     "slide_type": "subslide"
    },
    "tags": []
   },
   "source": [
    "#### co-authoring changes  \n",
    "\n",
    "Have you pair programmed with a friend and come up with a solution together? How do you deal with attribution?  \n",
    "\n",
    "`Co-authored-by: NAME <EMAIL>` can add multiple authors to a commit. "
   ]
  },
  {
   "cell_type": "markdown",
   "id": "fe3b7f22-a885-4618-96ca-cd29d015bcb8",
   "metadata": {
    "editable": true,
    "slideshow": {
     "slide_type": "slide"
    },
    "tags": []
   },
   "source": [
    "# More resources\n",
    "* [GitHub Issues](https://docs.github.com/en/issues/tracking-your-work-with-issues/about-issues) help you share code issues or feature requests with collaborators\n",
    "* Do you need to version control large files? [git lfs](https://git-lfs.com/) and [git annex](https://git-annex.branchable.com/) are tools designed to help with this\n",
    "* How to undo almost anything with git [link](https://github.blog/2015-06-08-how-to-undo-almost-anything-with-git/)\n",
    "* Remove sensitive data (like private keys) from a repository [link](https://docs.github.com/en/authentication/keeping-your-account-and-data-secure/removing-sensitive-data-from-a-repository)"
   ]
  },
  {
   "cell_type": "markdown",
   "id": "cc333f2b-eca8-4fe5-8161-81005f546f8b",
   "metadata": {
    "editable": true,
    "slideshow": {
     "slide_type": "slide"
    },
    "tags": []
   },
   "source": [
    "# Exercises"
   ]
  },
  {
   "cell_type": "markdown",
   "id": "49a0aa92-5289-4197-a400-7c1aec0fbabf",
   "metadata": {
    "editable": true,
    "slideshow": {
     "slide_type": "subslide"
    },
    "tags": []
   },
   "source": [
    "Choose one of the following: "
   ]
  },
  {
   "cell_type": "markdown",
   "id": "638f7c5c-b10c-409d-be68-99c559c59823",
   "metadata": {
    "editable": true,
    "slideshow": {
     "slide_type": "fragment"
    },
    "tags": []
   },
   "source": [
    "* If you brought a project to work on: open an issue on your repository for something you'd like to improve that's a beginner friendly issue. Describe the issue thoroughly. Then, working in groups at your tables, have a partner fork your project and submit a pull request fixing that issue. Do not merge the pull request today. \n",
    "* Make a feature branch on your project and add a simple new feature to your project (could even just be some new info in the README). Submit a pull request on your project using that branch. Do not merge the pull request today. "
   ]
  }
 ],
 "metadata": {
  "kernelspec": {
   "display_name": "Python 3 (ipykernel)",
   "language": "python",
   "name": "python3"
  },
  "language_info": {
   "codemirror_mode": {
    "name": "ipython",
    "version": 3
   },
   "file_extension": ".py",
   "mimetype": "text/x-python",
   "name": "python",
   "nbconvert_exporter": "python",
   "pygments_lexer": "ipython3",
   "version": "3.9.13"
  }
 },
 "nbformat": 4,
 "nbformat_minor": 5
}
